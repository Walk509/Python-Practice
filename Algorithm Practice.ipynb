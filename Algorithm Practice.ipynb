{
 "cells": [
  {
   "cell_type": "markdown",
   "metadata": {},
   "source": [
    "# Algorithm Solutions\n",
    "\n",
    "This notebook is intended for me to practice solving Python Algorithms"
   ]
  },
  {
   "cell_type": "code",
   "execution_count": 2,
   "metadata": {},
   "outputs": [],
   "source": [
    "import numpy as np\n",
    "import pandas as pd\n",
    "import string"
   ]
  },
  {
   "cell_type": "markdown",
   "metadata": {},
   "source": [
    "### Algorithm 1\n",
    "\n",
    "Given an integer, return the integer with reversed digits. \n",
    "<br />Note: the integer could be either positive or negative.\n",
    "\n",
    "IE -867 = -768 \n",
    "<br />309 = 903"
   ]
  },
  {
   "cell_type": "code",
   "execution_count": 3,
   "metadata": {},
   "outputs": [],
   "source": [
    "def reverse_integer(num):\n",
    "    rev_num = str(num)\n",
    "    if num < 0:\n",
    "        return int('-'+rev_num[:0:-1])\n",
    "    else:\n",
    "        return int(rev_num[::-1])"
   ]
  },
  {
   "cell_type": "code",
   "execution_count": 4,
   "metadata": {},
   "outputs": [
    {
     "name": "stdout",
     "output_type": "stream",
     "text": [
      "-768\n",
      "903\n"
     ]
    }
   ],
   "source": [
    "print(reverse_integer(-867))\n",
    "print(reverse_integer(309))"
   ]
  },
  {
   "cell_type": "markdown",
   "metadata": {},
   "source": [
    "### Algorithm 2\n",
    "\n",
    "For a given sentence, return the average word length. \n",
    "<br />Note: Remember to remove punctuation first\n",
    "\n",
    "Sentence1 = \"Hi all, my name is Tom . . .I am originally from Australia.\" = 3.2\n",
    "<br />Sentence2 = \"I need to work very hard to learn more about algorithms in Python!\" = 4.08"
   ]
  },
  {
   "cell_type": "code",
   "execution_count": 5,
   "metadata": {},
   "outputs": [],
   "source": [
    "Sentence1 = \"Hi all, my name is Tom . . .I am originally from Australia.\"\n",
    "Sentence2 = \"I need to work very hard to learn more about algorithms in Python!\""
   ]
  },
  {
   "cell_type": "code",
   "execution_count": 6,
   "metadata": {},
   "outputs": [],
   "source": [
    "def avg_length(sen):\n",
    "    no_punc = sen.translate(str.maketrans('', '', string.punctuation))\n",
    "    to_count = no_punc.split(\" \")\n",
    "    no_punc = no_punc.replace(\" \",\"\")\n",
    "    return len(no_punc) / len(to_count)"
   ]
  },
  {
   "cell_type": "code",
   "execution_count": 7,
   "metadata": {},
   "outputs": [
    {
     "name": "stdout",
     "output_type": "stream",
     "text": [
      "3.230769230769231\n",
      "4.076923076923077\n"
     ]
    }
   ],
   "source": [
    "print(avg_length(Sentence1))\n",
    "print(avg_length(Sentence2))"
   ]
  },
  {
   "cell_type": "markdown",
   "metadata": {},
   "source": [
    "### Algorithm 3\n",
    "\n",
    "Given an array of integers, return indices of the two numbers such that they add up to a specific target.\n",
    "<br />You may assume that each input would have exactly one solution, and you may not use the same element twice.\n",
    "\n",
    "IE <br />\n",
    "[2, 7, 11, 15], target = 9,\n",
    "\n",
    "Because nums [0] + nums[1] = 2 + 7 = 9\n",
    "<br />return [0,1]"
   ]
  },
  {
   "cell_type": "code",
   "execution_count": 8,
   "metadata": {},
   "outputs": [],
   "source": [
    "arr = np.array([2,7,11,15])\n",
    "target = 17\n",
    "list = []"
   ]
  },
  {
   "cell_type": "code",
   "execution_count": 9,
   "metadata": {},
   "outputs": [],
   "source": [
    "def target_index(arr, target):\n",
    "    index1 = 0\n",
    "    for num in arr:\n",
    "        index2 = 0\n",
    "        for index in arr:\n",
    "            if (target - arr[index1]) == arr[index2]:\n",
    "                return (index1,index2)\n",
    "            else:\n",
    "                index2 += 1\n",
    "    index1 += 1"
   ]
  },
  {
   "cell_type": "code",
   "execution_count": 10,
   "metadata": {},
   "outputs": [
    {
     "name": "stdout",
     "output_type": "stream",
     "text": [
      "(0, 3)\n"
     ]
    }
   ],
   "source": [
    "print(target_index(arr,target))"
   ]
  },
  {
   "cell_type": "markdown",
   "metadata": {},
   "source": [
    "### Algorithm 4\n",
    "\n",
    "Running sum of 1d array.\n",
    "<br />Given an array nums. We define a running sum of an array as runningSum[i] = sum(nums[0]...nums[1].\n",
    "<br />Return the running sum of nums.\n",
    "\n",
    "IE <br />\n",
    "Input: nums = [1,2,3,4]\n",
    "<br />Output: [1,3,6,10]\n",
    "\n",
    "Input: [1,1,1,1,1]\n",
    "<br />Output: [1,2,3,4,5]\n",
    "\n",
    "Input: nums = [3,1,2,10,1]\n",
    "<br />Output: [3,4,6,16,17]"
   ]
  },
  {
   "cell_type": "code",
   "execution_count": 11,
   "metadata": {},
   "outputs": [],
   "source": [
    "nums = np.array([3,1,2,10,1])"
   ]
  },
  {
   "cell_type": "code",
   "execution_count": 12,
   "metadata": {},
   "outputs": [],
   "source": [
    "def running_sums(num):\n",
    "    run_sum = []\n",
    "    new_num = 0\n",
    "    for digit in num:\n",
    "        new_num = new_num + digit\n",
    "        run_sum.append(new_num)\n",
    "    return np.array([run_sum])"
   ]
  },
  {
   "cell_type": "code",
   "execution_count": 13,
   "metadata": {},
   "outputs": [
    {
     "name": "stdout",
     "output_type": "stream",
     "text": [
      "[[ 3  4  6 16 17]]\n"
     ]
    }
   ],
   "source": [
    "print(running_sums(nums))"
   ]
  },
  {
   "cell_type": "markdown",
   "metadata": {},
   "source": [
    "### Algorithm 5\n",
    "\n",
    "#### Shuffle the Array\n",
    "<br />Given an array nums consisting of 2n elements in the form [x1,x2, . . . ,xn,y1,y2,. . . ,yn]\n",
    "<br />Return the array in the form [x1,y1,x2,y2, . . . xn,yn].\n",
    "\n",
    "IE <br />\n",
    "Input: nums = [2,5,1,3,4,7], n = 3\n",
    "<br />Output: [2,3,5,4,1,7]\n",
    "\n",
    "Input: [1,2,3,4,4,3,2,1], n = 4\n",
    "<br />Output: [1,4,2,3,3,2,4,1]\n",
    "\n",
    "Input: nums = [1,1,2,2], n = 2\n",
    "<br />Output: [1,2,1,2]"
   ]
  },
  {
   "cell_type": "code",
   "execution_count": 31,
   "metadata": {},
   "outputs": [],
   "source": [
    "nums = np.array([1,1,2,2])\n",
    "n = 2"
   ]
  },
  {
   "cell_type": "code",
   "execution_count": 32,
   "metadata": {},
   "outputs": [],
   "source": [
    "def shuffle_array(nums,n):\n",
    "    new_list = []\n",
    "    index=0\n",
    "    for items in nums[:n]:\n",
    "        new_list.append(nums[index])\n",
    "        new_list.append(nums[index + n])\n",
    "        index += 1\n",
    "    return np.array([new_list])"
   ]
  },
  {
   "cell_type": "code",
   "execution_count": 33,
   "metadata": {},
   "outputs": [
    {
     "name": "stdout",
     "output_type": "stream",
     "text": [
      "[[1 2 1 2]]\n"
     ]
    }
   ],
   "source": [
    "print(shuffle_array(nums, n))"
   ]
  },
  {
   "cell_type": "markdown",
   "metadata": {},
   "source": []
  }
 ],
 "metadata": {
  "kernelspec": {
   "display_name": "Python 3",
   "language": "python",
   "name": "python3"
  },
  "language_info": {
   "codemirror_mode": {
    "name": "ipython",
    "version": 3
   },
   "file_extension": ".py",
   "mimetype": "text/x-python",
   "name": "python",
   "nbconvert_exporter": "python",
   "pygments_lexer": "ipython3",
   "version": "3.7.3"
  }
 },
 "nbformat": 4,
 "nbformat_minor": 2
}
